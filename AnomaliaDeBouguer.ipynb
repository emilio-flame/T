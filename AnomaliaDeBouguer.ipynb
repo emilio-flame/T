{
 "cells": [
  {
   "cell_type": "code",
   "execution_count": 1,
   "id": "ffc4db9b-c8c8-4e6a-bc4d-df428965616f",
   "metadata": {},
   "outputs": [],
   "source": [
    "import numpy as np\n",
    "import math as m "
   ]
  },
  {
   "cell_type": "markdown",
   "id": "22623671-5891-43a9-a867-06cb469a8066",
   "metadata": {},
   "source": [
    "##### Ejercicio: Calcular la anomalía de Bouguer empleando los datos del ejercicio anterior y una $C_{t}= 4.27[mgal]$"
   ]
  },
  {
   "cell_type": "markdown",
   "id": "0f29dfa4-482e-41c5-adc2-d744ea9ed2d4",
   "metadata": {},
   "source": [
    "##### Anomalía de Bouguer $\\rightarrow$ $\\Delta g_{b} = g+C_{t}-g_{b}+f-\\gamma$"
   ]
  },
  {
   "cell_type": "markdown",
   "id": "3eee3d4f-5d44-448e-a3f7-21e0096ef3dc",
   "metadata": {},
   "source": [
    "##### Datos:\n",
    "##### En un punto de latitud $\\phi = 19° 19'50.20''$, la gravedad medida en superficie fue de $g=9.779251286[\\frac{m}{s}^{2}]$, con una elevación de 2276.565[m]. Calcular las anomalías de Bouguer y Aire Libre, expresar el resultado en miligales empleando WGS84"
   ]
  },
  {
   "cell_type": "code",
   "execution_count": 32,
   "id": "03302d25-c22b-4a0f-b3ee-d43a726a7df2",
   "metadata": {},
   "outputs": [
    {
     "name": "stdout",
     "output_type": "stream",
     "text": [
      "Ingrese  los valores de latitud \n",
      " Grados\n"
     ]
    },
    {
     "name": "stdin",
     "output_type": "stream",
     "text": [
      " 19\n"
     ]
    },
    {
     "name": "stdout",
     "output_type": "stream",
     "text": [
      "Minutos\n"
     ]
    },
    {
     "name": "stdin",
     "output_type": "stream",
     "text": [
      " 19\n"
     ]
    },
    {
     "name": "stdout",
     "output_type": "stream",
     "text": [
      "Segundos\n"
     ]
    },
    {
     "name": "stdin",
     "output_type": "stream",
     "text": [
      " 50.20\n"
     ]
    },
    {
     "name": "stdout",
     "output_type": "stream",
     "text": [
      "Lat en grados decimales:  19.33061111111111\n"
     ]
    }
   ],
   "source": [
    "print('Ingrese  los valores de latitud \\n','Grados') \n",
    "G= float(input()) \n",
    "print('Minutos')\n",
    "M= float(input())\n",
    "print('Segundos')\n",
    "S= float(input())\n",
    "dec= G+(M+(S/60))/60\n",
    "print('Lat en grados decimales: ',dec)\n",
    "phi= dec"
   ]
  },
  {
   "cell_type": "markdown",
   "id": "5576a1f1-8f23-4062-bdb7-e959e4c8eb5c",
   "metadata": {},
   "source": [
    "# Calculo de la anomalía al aire libre "
   ]
  },
  {
   "cell_type": "code",
   "execution_count": 33,
   "id": "676077eb-9e13-46d4-8463-51bef866e269",
   "metadata": {},
   "outputs": [],
   "source": [
    "def gN(phi): \n",
    "    grav=978.049*(1+(0.0052884*(np.sin(np.radians(phi))**2))-0.0000059*(np.sin(2*np.radians(phi))**2)) #Cassini\n",
    "    grav= round((grav*1000),6)\n",
    "    return grav"
   ]
  },
  {
   "cell_type": "code",
   "execution_count": 34,
   "id": "b77ee292-71bc-406a-9c9a-9b09aa0c64e1",
   "metadata": {},
   "outputs": [
    {
     "name": "stdout",
     "output_type": "stream",
     "text": [
      "La gravedad normal es:  978613.495532 [mgal]\n"
     ]
    }
   ],
   "source": [
    "GN= gN(phi)\n",
    "print('La gravedad normal es: ',GN,'[mgal]')"
   ]
  },
  {
   "cell_type": "code",
   "execution_count": 35,
   "id": "fe3955c4-c5da-4e05-8f12-91394167c170",
   "metadata": {},
   "outputs": [
    {
     "name": "stdout",
     "output_type": "stream",
     "text": [
      "¿En qué unidades esta g? \n",
      " Seleccione 1 para [m/s^2] \n",
      " Seleccione 2 para mgal\n"
     ]
    },
    {
     "name": "stdin",
     "output_type": "stream",
     "text": [
      " 2\n"
     ]
    },
    {
     "name": "stdout",
     "output_type": "stream",
     "text": [
      "Ingrese el valor de g\n"
     ]
    },
    {
     "name": "stdin",
     "output_type": "stream",
     "text": [
      " 977925.1286\n"
     ]
    },
    {
     "name": "stdout",
     "output_type": "stream",
     "text": [
      "El valor de g es:  977925.1286 [mgal]\n",
      "Ingrese el valor de la altura: \n"
     ]
    },
    {
     "name": "stdin",
     "output_type": "stream",
     "text": [
      " 2276.565\n"
     ]
    },
    {
     "name": "stdout",
     "output_type": "stream",
     "text": [
      "El valor de la altura es:  2276.565 [m]\n"
     ]
    }
   ],
   "source": [
    "print('¿En qué unidades esta g? \\n','Seleccione 1 para [m/s^2] \\n','Seleccione 2 para mgal' )\n",
    "res=int(input())\n",
    "if res== 1:\n",
    "    print('Ingrese el valor de g')\n",
    "    g= float(input())\n",
    "    g= round((g*100000),2)\n",
    "    print('El valor de g es: ',g,'[mgal]')\n",
    "elif res== 2:\n",
    "    print('Ingrese el valor de g')\n",
    "    g= float(input())\n",
    "    print('El valor de g es: ',g,'[mgal]')\n",
    "else:\n",
    "    print('Respuesta incorrecta')\n",
    "    \n",
    "    \n",
    "print('Ingrese el valor de la altura: ')\n",
    "H= float(input())\n",
    "print('El valor de la altura es: ',H,'[m]')"
   ]
  },
  {
   "cell_type": "code",
   "execution_count": 36,
   "id": "ee5c2bdc-573c-4214-9347-bf8a74c2db40",
   "metadata": {},
   "outputs": [],
   "source": [
    "F= (0.3086*(m.pow(10,-5)))*H*100000\n",
    "def ral(g,F):\n",
    "    dal= g+F\n",
    "    dal= round(dal,6)\n",
    "    dal\n",
    "    return dal"
   ]
  },
  {
   "cell_type": "code",
   "execution_count": 37,
   "id": "4157416c-2ecb-4205-82a9-72370f8a720f",
   "metadata": {},
   "outputs": [
    {
     "name": "stdout",
     "output_type": "stream",
     "text": [
      "La reducción al aire libre es:  978627.676559 [mgal]\n"
     ]
    }
   ],
   "source": [
    "res= ral(g,F)\n",
    "print('La reducción al aire libre es: ',res,'[mgal]')"
   ]
  },
  {
   "cell_type": "code",
   "execution_count": 46,
   "id": "c713a032-4b9b-45cb-84eb-addf85cd8f6a",
   "metadata": {},
   "outputs": [
    {
     "name": "stdout",
     "output_type": "stream",
     "text": [
      "El valor de la anomalia es:  14.18103 [mgal]\n"
     ]
    }
   ],
   "source": [
    "q= round(res-GN,5)\n",
    "print('El valor de la anomalia es: ',q,'[mgal]')"
   ]
  },
  {
   "cell_type": "markdown",
   "id": "303bcc3b-0ab3-4592-91e8-3e4f630b79ad",
   "metadata": {},
   "source": [
    "### Calculo de la anomalía de Bouguer "
   ]
  },
  {
   "cell_type": "markdown",
   "id": "6c7913f6-a623-483a-89f1-d5df5abb4fd4",
   "metadata": {},
   "source": [
    "$\\rightarrow$ $\\Delta g_{b} = g+C_{t}-g_{b}+f-\\gamma$"
   ]
  },
  {
   "cell_type": "code",
   "execution_count": 58,
   "id": "4d6d8df9-a669-45ab-9c54-6ecc7551cdbd",
   "metadata": {},
   "outputs": [],
   "source": [
    "ct= 4.27\n",
    "cb= (1.119*m.pow(10,-6))*H"
   ]
  },
  {
   "cell_type": "code",
   "execution_count": 59,
   "id": "cb456762-84c8-441d-87ed-014396581b1c",
   "metadata": {},
   "outputs": [],
   "source": [
    "def ab(g,phi,H):\n",
    "    dgb=g+ct-cb+F-GN\n",
    "    return dgb"
   ]
  },
  {
   "cell_type": "code",
   "execution_count": 61,
   "id": "6f33daaf-b989-4348-bad5-9c22e2cde75f",
   "metadata": {},
   "outputs": [
    {
     "name": "stdout",
     "output_type": "stream",
     "text": [
      "El valor de la anomalia de Bouguer es:  18.44847952388227\n"
     ]
    }
   ],
   "source": [
    "Ab=ab(g,phi,H)\n",
    "print('El valor de la anomalia de Bouguer es: ',Ab)"
   ]
  },
  {
   "cell_type": "markdown",
   "id": "65661b4b-2a4b-4f14-8eff-3e5cb09355a5",
   "metadata": {},
   "source": [
    "## Conclusiones "
   ]
  },
  {
   "cell_type": "code",
   "execution_count": 65,
   "id": "75975c9e-a18c-4d22-a927-cdd7e4fd6cdf",
   "metadata": {},
   "outputs": [
    {
     "name": "stdout",
     "output_type": "stream",
     "text": [
      " La anomalía por aire libre es: 14.18103 \n",
      " La anomalia de Bouguer es:  18.44847952388227\n"
     ]
    }
   ],
   "source": [
    "print(' La anomalía por aire libre es:', q,'\\n La anomalia de Bouguer es: ',Ab)"
   ]
  },
  {
   "cell_type": "code",
   "execution_count": null,
   "id": "10ec692d-0a29-4bdd-9aab-d43c55ad7d0e",
   "metadata": {},
   "outputs": [],
   "source": []
  }
 ],
 "metadata": {
  "kernelspec": {
   "display_name": "Python 3 (ipykernel)",
   "language": "python",
   "name": "python3"
  },
  "language_info": {
   "codemirror_mode": {
    "name": "ipython",
    "version": 3
   },
   "file_extension": ".py",
   "mimetype": "text/x-python",
   "name": "python",
   "nbconvert_exporter": "python",
   "pygments_lexer": "ipython3",
   "version": "3.10.4"
  }
 },
 "nbformat": 4,
 "nbformat_minor": 5
}
